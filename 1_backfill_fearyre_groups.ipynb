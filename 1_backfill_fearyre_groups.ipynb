{
 "cells": [
  {
   "cell_type": "code",
   "execution_count": 29,
   "id": "3c6c8c5e-c7f6-48f9-b064-72890ccf1153",
   "metadata": {},
   "outputs": [],
   "source": [
    "import pandas as pd\n",
    "\n",
    "from functions import *"
   ]
  },
  {
   "cell_type": "code",
   "execution_count": 30,
   "id": "0f76f901-d148-48ed-b0ed-35e8b11d9991",
   "metadata": {},
   "outputs": [],
   "source": [
    "#from platform import python_version"
   ]
  },
  {
   "cell_type": "code",
   "execution_count": 31,
   "id": "ad3b644e-1c02-411d-a1d3-80df230976a5",
   "metadata": {},
   "outputs": [],
   "source": [
    "#print(python_version())"
   ]
  },
  {
   "cell_type": "code",
   "execution_count": 32,
   "id": "d434713b-93e0-4c5c-88c1-2ff52694cd69",
   "metadata": {},
   "outputs": [],
   "source": [
    "#pip install python-dotenv"
   ]
  },
  {
   "cell_type": "code",
   "execution_count": 33,
   "id": "c59d2557-77b2-4430-a16a-417ea4fbb226",
   "metadata": {},
   "outputs": [
    {
     "data": {
      "text/html": [
       "<div>\n",
       "<style scoped>\n",
       "    .dataframe tbody tr th:only-of-type {\n",
       "        vertical-align: middle;\n",
       "    }\n",
       "\n",
       "    .dataframe tbody tr th {\n",
       "        vertical-align: top;\n",
       "    }\n",
       "\n",
       "    .dataframe thead th {\n",
       "        text-align: right;\n",
       "    }\n",
       "</style>\n",
       "<table border=\"1\" class=\"dataframe\">\n",
       "  <thead>\n",
       "    <tr style=\"text-align: right;\">\n",
       "      <th></th>\n",
       "      <th>date</th>\n",
       "      <th>pm25</th>\n",
       "      <th>pm10</th>\n",
       "      <th>o3</th>\n",
       "      <th>no2</th>\n",
       "      <th>so2</th>\n",
       "      <th>co</th>\n",
       "    </tr>\n",
       "  </thead>\n",
       "  <tbody>\n",
       "    <tr>\n",
       "      <th>0</th>\n",
       "      <td>2023/1/2</td>\n",
       "      <td>31</td>\n",
       "      <td>18</td>\n",
       "      <td>14</td>\n",
       "      <td>22</td>\n",
       "      <td></td>\n",
       "      <td>2</td>\n",
       "    </tr>\n",
       "    <tr>\n",
       "      <th>1</th>\n",
       "      <td>2023/1/3</td>\n",
       "      <td>44</td>\n",
       "      <td></td>\n",
       "      <td></td>\n",
       "      <td></td>\n",
       "      <td></td>\n",
       "      <td></td>\n",
       "    </tr>\n",
       "    <tr>\n",
       "      <th>2</th>\n",
       "      <td>2022/10/1</td>\n",
       "      <td>30</td>\n",
       "      <td>19</td>\n",
       "      <td>24</td>\n",
       "      <td>13</td>\n",
       "      <td></td>\n",
       "      <td>2</td>\n",
       "    </tr>\n",
       "    <tr>\n",
       "      <th>3</th>\n",
       "      <td>2022/10/2</td>\n",
       "      <td>33</td>\n",
       "      <td>22</td>\n",
       "      <td>19</td>\n",
       "      <td>26</td>\n",
       "      <td></td>\n",
       "      <td>4</td>\n",
       "    </tr>\n",
       "    <tr>\n",
       "      <th>4</th>\n",
       "      <td>2022/10/3</td>\n",
       "      <td>46</td>\n",
       "      <td>22</td>\n",
       "      <td>20</td>\n",
       "      <td>20</td>\n",
       "      <td></td>\n",
       "      <td>3</td>\n",
       "    </tr>\n",
       "  </tbody>\n",
       "</table>\n",
       "</div>"
      ],
      "text/plain": [
       "        date  pm25  pm10   o3  no2  so2  co\n",
       "0   2023/1/2    31    18   14   22        2\n",
       "1   2023/1/3    44                         \n",
       "2  2022/10/1    30    19   24   13        2\n",
       "3  2022/10/2    33    22   19   26        4\n",
       "4  2022/10/3    46    22   20   20        3"
      ]
     },
     "execution_count": 33,
     "metadata": {},
     "output_type": "execute_result"
    }
   ],
   "source": [
    "df_air_quality = pd.read_csv('amsterdam-air-quality.csv')\n",
    "df_air_quality.head()"
   ]
  },
  {
   "cell_type": "code",
   "execution_count": 34,
   "id": "5a858f4a-1c99-446f-9921-e2e99e0fd6ee",
   "metadata": {},
   "outputs": [
    {
     "data": {
      "text/plain": [
       "date     3079\n",
       " pm25    3079\n",
       " pm10    3079\n",
       " o3      3079\n",
       " no2     3079\n",
       " so2     3079\n",
       " co      3079\n",
       "dtype: int64"
      ]
     },
     "execution_count": 34,
     "metadata": {},
     "output_type": "execute_result"
    }
   ],
   "source": [
    "df_air_quality.count()"
   ]
  },
  {
   "cell_type": "code",
   "execution_count": 35,
   "id": "b2002e51-5a9a-4740-8ae6-9dec3987c6c4",
   "metadata": {},
   "outputs": [
    {
     "data": {
      "text/html": [
       "<div>\n",
       "<style scoped>\n",
       "    .dataframe tbody tr th:only-of-type {\n",
       "        vertical-align: middle;\n",
       "    }\n",
       "\n",
       "    .dataframe tbody tr th {\n",
       "        vertical-align: top;\n",
       "    }\n",
       "\n",
       "    .dataframe thead th {\n",
       "        text-align: right;\n",
       "    }\n",
       "</style>\n",
       "<table border=\"1\" class=\"dataframe\">\n",
       "  <thead>\n",
       "    <tr style=\"text-align: right;\">\n",
       "      <th></th>\n",
       "      <th>date</th>\n",
       "      <th>pm25</th>\n",
       "      <th>pm10</th>\n",
       "      <th>o3</th>\n",
       "      <th>no2</th>\n",
       "      <th>so2</th>\n",
       "      <th>co</th>\n",
       "    </tr>\n",
       "  </thead>\n",
       "  <tbody>\n",
       "    <tr>\n",
       "      <th>0</th>\n",
       "      <td>1388444400000</td>\n",
       "      <td></td>\n",
       "      <td></td>\n",
       "      <td></td>\n",
       "      <td>30</td>\n",
       "      <td></td>\n",
       "      <td></td>\n",
       "    </tr>\n",
       "    <tr>\n",
       "      <th>1</th>\n",
       "      <td>1388530800000</td>\n",
       "      <td></td>\n",
       "      <td>42</td>\n",
       "      <td></td>\n",
       "      <td>32</td>\n",
       "      <td></td>\n",
       "      <td></td>\n",
       "    </tr>\n",
       "    <tr>\n",
       "      <th>2</th>\n",
       "      <td>1388617200000</td>\n",
       "      <td></td>\n",
       "      <td>14</td>\n",
       "      <td></td>\n",
       "      <td>28</td>\n",
       "      <td></td>\n",
       "      <td></td>\n",
       "    </tr>\n",
       "    <tr>\n",
       "      <th>3</th>\n",
       "      <td>1388703600000</td>\n",
       "      <td></td>\n",
       "      <td>17</td>\n",
       "      <td></td>\n",
       "      <td>26</td>\n",
       "      <td></td>\n",
       "      <td></td>\n",
       "    </tr>\n",
       "    <tr>\n",
       "      <th>4</th>\n",
       "      <td>1388790000000</td>\n",
       "      <td></td>\n",
       "      <td>19</td>\n",
       "      <td></td>\n",
       "      <td>28</td>\n",
       "      <td></td>\n",
       "      <td></td>\n",
       "    </tr>\n",
       "  </tbody>\n",
       "</table>\n",
       "</div>"
      ],
      "text/plain": [
       "            date  pm25  pm10  o3  no2  so2  co\n",
       "0  1388444400000                   30         \n",
       "1  1388530800000          42       32         \n",
       "2  1388617200000          14       28         \n",
       "3  1388703600000          17       26         \n",
       "4  1388790000000          19       28         "
      ]
     },
     "execution_count": 35,
     "metadata": {},
     "output_type": "execute_result"
    }
   ],
   "source": [
    "df_air_quality.date = df_air_quality.date.apply(timestamp_2_time)\n",
    "df_air_quality.sort_values(by = ['date'],inplace = True,ignore_index = True)\n",
    "\n",
    "df_air_quality.head()"
   ]
  },
  {
   "cell_type": "code",
   "execution_count": 36,
   "id": "63062517-4437-4b15-b9e3-a3654fe04e69",
   "metadata": {},
   "outputs": [],
   "source": [
    "df_air_quality.rename(columns={\" pm25\": \"pm25\", \" pm10\": \"pm10\", \" o3\": \"o3\", \" no2\": \"no2\", \" so2\": \"so2\", \" co\": \"co\"}, inplace = True)"
   ]
  },
  {
   "cell_type": "code",
   "execution_count": 37,
   "id": "007b7231-a3a5-4fb2-8155-7eecdd0c9297",
   "metadata": {},
   "outputs": [
    {
     "data": {
      "text/plain": [
       "date    3079\n",
       "pm25    3079\n",
       "pm10    3079\n",
       "o3      3079\n",
       "no2     3079\n",
       "so2     3079\n",
       "co      3079\n",
       "dtype: int64"
      ]
     },
     "execution_count": 37,
     "metadata": {},
     "output_type": "execute_result"
    }
   ],
   "source": [
    "df_air_quality.count()"
   ]
  },
  {
   "cell_type": "code",
   "execution_count": 38,
   "id": "e8448801-5513-4ece-b9d1-e7a7b597fb8a",
   "metadata": {},
   "outputs": [],
   "source": [
    "#add AQI column\n",
    "aqi=[]\n",
    "for i in range(0,len(df_air_quality)):\n",
    "    row=df_air_quality.iloc[i,1:]\n",
    "    aqi.append(max(row))\n",
    "df_air_quality['aqi']=aqi"
   ]
  },
  {
   "cell_type": "code",
   "execution_count": 39,
   "id": "af1458cf-cfa2-47e8-8d9d-57fd3fda1b89",
   "metadata": {},
   "outputs": [],
   "source": [
    "for col in df_air_quality:\n",
    "    vals=[]\n",
    "    for i in df_air_quality[col]:\n",
    "        try:\n",
    "            vals.append(int(i))\n",
    "        except:\n",
    "            vals.append(0)\n",
    "    df_air_quality[col]=vals"
   ]
  },
  {
   "cell_type": "code",
   "execution_count": 40,
   "id": "8a066380-ae01-44c3-8674-b9f722bbabca",
   "metadata": {},
   "outputs": [],
   "source": [
    "df_air_quality['o3'] = df_air_quality['o3'].astype(float)\n",
    "df_air_quality['no2'] = df_air_quality['no2'].astype(float)\n",
    "df_air_quality['so2'] = df_air_quality['so2'].astype(float)\n",
    "df_air_quality['co'] = df_air_quality['co'].astype(float)"
   ]
  },
  {
   "cell_type": "code",
   "execution_count": 41,
   "id": "4e80d1be-1501-4679-9bf0-8c92e541ea9f",
   "metadata": {},
   "outputs": [
    {
     "data": {
      "text/plain": [
       "date      int64\n",
       "pm25      int64\n",
       "pm10      int64\n",
       "o3      float64\n",
       "no2     float64\n",
       "so2     float64\n",
       "co      float64\n",
       "aqi       int64\n",
       "dtype: object"
      ]
     },
     "execution_count": 41,
     "metadata": {},
     "output_type": "execute_result"
    }
   ],
   "source": [
    "df_air_quality.dtypes"
   ]
  },
  {
   "cell_type": "code",
   "execution_count": 42,
   "id": "3f468436-d431-4d76-9f6b-d01de53e4ec6",
   "metadata": {},
   "outputs": [
    {
     "data": {
      "text/html": [
       "<div>\n",
       "<style scoped>\n",
       "    .dataframe tbody tr th:only-of-type {\n",
       "        vertical-align: middle;\n",
       "    }\n",
       "\n",
       "    .dataframe tbody tr th {\n",
       "        vertical-align: top;\n",
       "    }\n",
       "\n",
       "    .dataframe thead th {\n",
       "        text-align: right;\n",
       "    }\n",
       "</style>\n",
       "<table border=\"1\" class=\"dataframe\">\n",
       "  <thead>\n",
       "    <tr style=\"text-align: right;\">\n",
       "      <th></th>\n",
       "      <th>date</th>\n",
       "      <th>pm25</th>\n",
       "      <th>pm10</th>\n",
       "      <th>o3</th>\n",
       "      <th>no2</th>\n",
       "      <th>so2</th>\n",
       "      <th>co</th>\n",
       "      <th>aqi</th>\n",
       "    </tr>\n",
       "  </thead>\n",
       "  <tbody>\n",
       "    <tr>\n",
       "      <th>0</th>\n",
       "      <td>1388444400000</td>\n",
       "      <td>0</td>\n",
       "      <td>0</td>\n",
       "      <td>0.0</td>\n",
       "      <td>30.0</td>\n",
       "      <td>0.0</td>\n",
       "      <td>0.0</td>\n",
       "      <td>30</td>\n",
       "    </tr>\n",
       "    <tr>\n",
       "      <th>1</th>\n",
       "      <td>1388530800000</td>\n",
       "      <td>0</td>\n",
       "      <td>42</td>\n",
       "      <td>0.0</td>\n",
       "      <td>32.0</td>\n",
       "      <td>0.0</td>\n",
       "      <td>0.0</td>\n",
       "      <td>42</td>\n",
       "    </tr>\n",
       "    <tr>\n",
       "      <th>2</th>\n",
       "      <td>1388617200000</td>\n",
       "      <td>0</td>\n",
       "      <td>14</td>\n",
       "      <td>0.0</td>\n",
       "      <td>28.0</td>\n",
       "      <td>0.0</td>\n",
       "      <td>0.0</td>\n",
       "      <td>28</td>\n",
       "    </tr>\n",
       "    <tr>\n",
       "      <th>3</th>\n",
       "      <td>1388703600000</td>\n",
       "      <td>0</td>\n",
       "      <td>17</td>\n",
       "      <td>0.0</td>\n",
       "      <td>26.0</td>\n",
       "      <td>0.0</td>\n",
       "      <td>0.0</td>\n",
       "      <td>26</td>\n",
       "    </tr>\n",
       "    <tr>\n",
       "      <th>4</th>\n",
       "      <td>1388790000000</td>\n",
       "      <td>0</td>\n",
       "      <td>19</td>\n",
       "      <td>0.0</td>\n",
       "      <td>28.0</td>\n",
       "      <td>0.0</td>\n",
       "      <td>0.0</td>\n",
       "      <td>28</td>\n",
       "    </tr>\n",
       "  </tbody>\n",
       "</table>\n",
       "</div>"
      ],
      "text/plain": [
       "            date  pm25  pm10   o3   no2  so2   co  aqi\n",
       "0  1388444400000     0     0  0.0  30.0  0.0  0.0   30\n",
       "1  1388530800000     0    42  0.0  32.0  0.0  0.0   42\n",
       "2  1388617200000     0    14  0.0  28.0  0.0  0.0   28\n",
       "3  1388703600000     0    17  0.0  26.0  0.0  0.0   26\n",
       "4  1388790000000     0    19  0.0  28.0  0.0  0.0   28"
      ]
     },
     "execution_count": 42,
     "metadata": {},
     "output_type": "execute_result"
    }
   ],
   "source": [
    "df_air_quality.head()"
   ]
  },
  {
   "cell_type": "code",
   "execution_count": 44,
   "id": "8ad2b92d-1364-4d7c-b7d4-f2a869411582",
   "metadata": {},
   "outputs": [
    {
     "data": {
      "text/html": [
       "<div>\n",
       "<style scoped>\n",
       "    .dataframe tbody tr th:only-of-type {\n",
       "        vertical-align: middle;\n",
       "    }\n",
       "\n",
       "    .dataframe tbody tr th {\n",
       "        vertical-align: top;\n",
       "    }\n",
       "\n",
       "    .dataframe thead th {\n",
       "        text-align: right;\n",
       "    }\n",
       "</style>\n",
       "<table border=\"1\" class=\"dataframe\">\n",
       "  <thead>\n",
       "    <tr style=\"text-align: right;\">\n",
       "      <th></th>\n",
       "      <th>name</th>\n",
       "      <th>datetime</th>\n",
       "      <th>tempmax</th>\n",
       "      <th>tempmin</th>\n",
       "      <th>temp</th>\n",
       "      <th>feelslikemax</th>\n",
       "      <th>feelslikemin</th>\n",
       "      <th>feelslike</th>\n",
       "      <th>dew</th>\n",
       "      <th>humidity</th>\n",
       "      <th>...</th>\n",
       "      <th>solarenergy</th>\n",
       "      <th>uvindex</th>\n",
       "      <th>severerisk</th>\n",
       "      <th>sunrise</th>\n",
       "      <th>sunset</th>\n",
       "      <th>moonphase</th>\n",
       "      <th>conditions</th>\n",
       "      <th>description</th>\n",
       "      <th>icon</th>\n",
       "      <th>stations</th>\n",
       "    </tr>\n",
       "  </thead>\n",
       "  <tbody>\n",
       "    <tr>\n",
       "      <th>0</th>\n",
       "      <td>amsterdam</td>\n",
       "      <td>2014-01-01</td>\n",
       "      <td>9.0</td>\n",
       "      <td>4.4</td>\n",
       "      <td>6.8</td>\n",
       "      <td>4.7</td>\n",
       "      <td>0.5</td>\n",
       "      <td>2.6</td>\n",
       "      <td>4.9</td>\n",
       "      <td>88.0</td>\n",
       "      <td>...</td>\n",
       "      <td>1.7</td>\n",
       "      <td>1</td>\n",
       "      <td>NaN</td>\n",
       "      <td>2014-01-01T08:50:28</td>\n",
       "      <td>2014-01-01T16:37:33</td>\n",
       "      <td>0.00</td>\n",
       "      <td>Rain, Partially cloudy</td>\n",
       "      <td>Partly cloudy throughout the day with rain.</td>\n",
       "      <td>rain</td>\n",
       "      <td>06260099999,06348099999,06249099999,0624009999...</td>\n",
       "    </tr>\n",
       "    <tr>\n",
       "      <th>1</th>\n",
       "      <td>amsterdam</td>\n",
       "      <td>2014-01-02</td>\n",
       "      <td>10.0</td>\n",
       "      <td>6.4</td>\n",
       "      <td>8.6</td>\n",
       "      <td>7.1</td>\n",
       "      <td>3.1</td>\n",
       "      <td>5.3</td>\n",
       "      <td>6.8</td>\n",
       "      <td>88.0</td>\n",
       "      <td>...</td>\n",
       "      <td>1.8</td>\n",
       "      <td>1</td>\n",
       "      <td>NaN</td>\n",
       "      <td>2014-01-02T08:50:19</td>\n",
       "      <td>2014-01-02T16:38:39</td>\n",
       "      <td>0.01</td>\n",
       "      <td>Rain, Partially cloudy</td>\n",
       "      <td>Partly cloudy throughout the day with rain.</td>\n",
       "      <td>rain</td>\n",
       "      <td>06260099999,06348099999,06249099999,0624009999...</td>\n",
       "    </tr>\n",
       "    <tr>\n",
       "      <th>2</th>\n",
       "      <td>amsterdam</td>\n",
       "      <td>2014-01-03</td>\n",
       "      <td>11.0</td>\n",
       "      <td>6.2</td>\n",
       "      <td>8.5</td>\n",
       "      <td>11.0</td>\n",
       "      <td>2.0</td>\n",
       "      <td>5.4</td>\n",
       "      <td>6.2</td>\n",
       "      <td>85.4</td>\n",
       "      <td>...</td>\n",
       "      <td>2.2</td>\n",
       "      <td>2</td>\n",
       "      <td>NaN</td>\n",
       "      <td>2014-01-03T08:50:07</td>\n",
       "      <td>2014-01-03T16:39:48</td>\n",
       "      <td>0.03</td>\n",
       "      <td>Rain, Partially cloudy</td>\n",
       "      <td>Partly cloudy throughout the day with rain.</td>\n",
       "      <td>rain</td>\n",
       "      <td>06260099999,06348099999,06249099999,0624009999...</td>\n",
       "    </tr>\n",
       "  </tbody>\n",
       "</table>\n",
       "<p>3 rows × 33 columns</p>\n",
       "</div>"
      ],
      "text/plain": [
       "        name    datetime  tempmax  tempmin  temp  feelslikemax  feelslikemin  \\\n",
       "0  amsterdam  2014-01-01      9.0      4.4   6.8           4.7           0.5   \n",
       "1  amsterdam  2014-01-02     10.0      6.4   8.6           7.1           3.1   \n",
       "2  amsterdam  2014-01-03     11.0      6.2   8.5          11.0           2.0   \n",
       "\n",
       "   feelslike  dew  humidity  ...  solarenergy  uvindex  severerisk  \\\n",
       "0        2.6  4.9      88.0  ...          1.7        1         NaN   \n",
       "1        5.3  6.8      88.0  ...          1.8        1         NaN   \n",
       "2        5.4  6.2      85.4  ...          2.2        2         NaN   \n",
       "\n",
       "               sunrise               sunset  moonphase  \\\n",
       "0  2014-01-01T08:50:28  2014-01-01T16:37:33       0.00   \n",
       "1  2014-01-02T08:50:19  2014-01-02T16:38:39       0.01   \n",
       "2  2014-01-03T08:50:07  2014-01-03T16:39:48       0.03   \n",
       "\n",
       "               conditions                                  description  icon  \\\n",
       "0  Rain, Partially cloudy  Partly cloudy throughout the day with rain.  rain   \n",
       "1  Rain, Partially cloudy  Partly cloudy throughout the day with rain.  rain   \n",
       "2  Rain, Partially cloudy  Partly cloudy throughout the day with rain.  rain   \n",
       "\n",
       "                                            stations  \n",
       "0  06260099999,06348099999,06249099999,0624009999...  \n",
       "1  06260099999,06348099999,06249099999,0624009999...  \n",
       "2  06260099999,06348099999,06249099999,0624009999...  \n",
       "\n",
       "[3 rows x 33 columns]"
      ]
     },
     "execution_count": 44,
     "metadata": {},
     "output_type": "execute_result"
    }
   ],
   "source": [
    "df_weather = pd.read_csv('amsterdam_weather.csv')\n",
    "\n",
    "df_weather.head(3)"
   ]
  },
  {
   "cell_type": "code",
   "execution_count": 45,
   "id": "53d2ca14-8503-40e3-9600-c8dde553b7ae",
   "metadata": {},
   "outputs": [
    {
     "data": {
      "text/html": [
       "<div>\n",
       "<style scoped>\n",
       "    .dataframe tbody tr th:only-of-type {\n",
       "        vertical-align: middle;\n",
       "    }\n",
       "\n",
       "    .dataframe tbody tr th {\n",
       "        vertical-align: top;\n",
       "    }\n",
       "\n",
       "    .dataframe thead th {\n",
       "        text-align: right;\n",
       "    }\n",
       "</style>\n",
       "<table border=\"1\" class=\"dataframe\">\n",
       "  <thead>\n",
       "    <tr style=\"text-align: right;\">\n",
       "      <th></th>\n",
       "      <th>name</th>\n",
       "      <th>datetime</th>\n",
       "      <th>tempmax</th>\n",
       "      <th>tempmin</th>\n",
       "      <th>temp</th>\n",
       "      <th>feelslikemax</th>\n",
       "      <th>feelslikemin</th>\n",
       "      <th>feelslike</th>\n",
       "      <th>dew</th>\n",
       "      <th>humidity</th>\n",
       "      <th>...</th>\n",
       "      <th>solarenergy</th>\n",
       "      <th>uvindex</th>\n",
       "      <th>severerisk</th>\n",
       "      <th>sunrise</th>\n",
       "      <th>sunset</th>\n",
       "      <th>moonphase</th>\n",
       "      <th>conditions</th>\n",
       "      <th>description</th>\n",
       "      <th>icon</th>\n",
       "      <th>stations</th>\n",
       "    </tr>\n",
       "  </thead>\n",
       "  <tbody>\n",
       "    <tr>\n",
       "      <th>0</th>\n",
       "      <td>amsterdam</td>\n",
       "      <td>1388530800000</td>\n",
       "      <td>9.0</td>\n",
       "      <td>4.4</td>\n",
       "      <td>6.8</td>\n",
       "      <td>4.7</td>\n",
       "      <td>0.5</td>\n",
       "      <td>2.6</td>\n",
       "      <td>4.9</td>\n",
       "      <td>88.0</td>\n",
       "      <td>...</td>\n",
       "      <td>1.7</td>\n",
       "      <td>1</td>\n",
       "      <td>NaN</td>\n",
       "      <td>2014-01-01T08:50:28</td>\n",
       "      <td>2014-01-01T16:37:33</td>\n",
       "      <td>0.00</td>\n",
       "      <td>Rain, Partially cloudy</td>\n",
       "      <td>Partly cloudy throughout the day with rain.</td>\n",
       "      <td>rain</td>\n",
       "      <td>06260099999,06348099999,06249099999,0624009999...</td>\n",
       "    </tr>\n",
       "    <tr>\n",
       "      <th>1</th>\n",
       "      <td>amsterdam</td>\n",
       "      <td>1388617200000</td>\n",
       "      <td>10.0</td>\n",
       "      <td>6.4</td>\n",
       "      <td>8.6</td>\n",
       "      <td>7.1</td>\n",
       "      <td>3.1</td>\n",
       "      <td>5.3</td>\n",
       "      <td>6.8</td>\n",
       "      <td>88.0</td>\n",
       "      <td>...</td>\n",
       "      <td>1.8</td>\n",
       "      <td>1</td>\n",
       "      <td>NaN</td>\n",
       "      <td>2014-01-02T08:50:19</td>\n",
       "      <td>2014-01-02T16:38:39</td>\n",
       "      <td>0.01</td>\n",
       "      <td>Rain, Partially cloudy</td>\n",
       "      <td>Partly cloudy throughout the day with rain.</td>\n",
       "      <td>rain</td>\n",
       "      <td>06260099999,06348099999,06249099999,0624009999...</td>\n",
       "    </tr>\n",
       "    <tr>\n",
       "      <th>2</th>\n",
       "      <td>amsterdam</td>\n",
       "      <td>1388703600000</td>\n",
       "      <td>11.0</td>\n",
       "      <td>6.2</td>\n",
       "      <td>8.5</td>\n",
       "      <td>11.0</td>\n",
       "      <td>2.0</td>\n",
       "      <td>5.4</td>\n",
       "      <td>6.2</td>\n",
       "      <td>85.4</td>\n",
       "      <td>...</td>\n",
       "      <td>2.2</td>\n",
       "      <td>2</td>\n",
       "      <td>NaN</td>\n",
       "      <td>2014-01-03T08:50:07</td>\n",
       "      <td>2014-01-03T16:39:48</td>\n",
       "      <td>0.03</td>\n",
       "      <td>Rain, Partially cloudy</td>\n",
       "      <td>Partly cloudy throughout the day with rain.</td>\n",
       "      <td>rain</td>\n",
       "      <td>06260099999,06348099999,06249099999,0624009999...</td>\n",
       "    </tr>\n",
       "  </tbody>\n",
       "</table>\n",
       "<p>3 rows × 33 columns</p>\n",
       "</div>"
      ],
      "text/plain": [
       "        name       datetime  tempmax  tempmin  temp  feelslikemax  \\\n",
       "0  amsterdam  1388530800000      9.0      4.4   6.8           4.7   \n",
       "1  amsterdam  1388617200000     10.0      6.4   8.6           7.1   \n",
       "2  amsterdam  1388703600000     11.0      6.2   8.5          11.0   \n",
       "\n",
       "   feelslikemin  feelslike  dew  humidity  ...  solarenergy  uvindex  \\\n",
       "0           0.5        2.6  4.9      88.0  ...          1.7        1   \n",
       "1           3.1        5.3  6.8      88.0  ...          1.8        1   \n",
       "2           2.0        5.4  6.2      85.4  ...          2.2        2   \n",
       "\n",
       "   severerisk              sunrise               sunset  moonphase  \\\n",
       "0         NaN  2014-01-01T08:50:28  2014-01-01T16:37:33       0.00   \n",
       "1         NaN  2014-01-02T08:50:19  2014-01-02T16:38:39       0.01   \n",
       "2         NaN  2014-01-03T08:50:07  2014-01-03T16:39:48       0.03   \n",
       "\n",
       "               conditions                                  description  icon  \\\n",
       "0  Rain, Partially cloudy  Partly cloudy throughout the day with rain.  rain   \n",
       "1  Rain, Partially cloudy  Partly cloudy throughout the day with rain.  rain   \n",
       "2  Rain, Partially cloudy  Partly cloudy throughout the day with rain.  rain   \n",
       "\n",
       "                                            stations  \n",
       "0  06260099999,06348099999,06249099999,0624009999...  \n",
       "1  06260099999,06348099999,06249099999,0624009999...  \n",
       "2  06260099999,06348099999,06249099999,0624009999...  \n",
       "\n",
       "[3 rows x 33 columns]"
      ]
     },
     "execution_count": 45,
     "metadata": {},
     "output_type": "execute_result"
    }
   ],
   "source": [
    "df_weather.datetime = df_weather.datetime.apply(timestamp_2_time_weather)\n",
    "df_weather.sort_values(by=['datetime'],inplace=True, ignore_index=True)\n",
    "\n",
    "df_weather.head(3)"
   ]
  },
  {
   "cell_type": "code",
   "execution_count": 46,
   "id": "0e96b366-7ada-4887-b910-7a9515158578",
   "metadata": {},
   "outputs": [],
   "source": [
    "\n",
    "\n",
    "df_weather.drop(['snow', 'snowdepth','preciptype','severerisk','sunrise','sunset','moonphase','description','icon','stations','name'], axis=1,inplace=True)\n",
    "df_weather.rename(columns={\"datetime\": \"date\"}, inplace = True)\n",
    "\n",
    "df_weather['uvindex'] = df_weather['uvindex'].astype(float)"
   ]
  },
  {
   "cell_type": "code",
   "execution_count": 47,
   "id": "ce21d34c-1f5b-4490-9552-b89e087714b1",
   "metadata": {},
   "outputs": [
    {
     "data": {
      "text/plain": [
       "date                3290\n",
       "tempmax             3290\n",
       "tempmin             3290\n",
       "temp                3290\n",
       "feelslikemax        3290\n",
       "feelslikemin        3290\n",
       "feelslike           3290\n",
       "dew                 3290\n",
       "humidity            3290\n",
       "precip              3290\n",
       "precipprob          3290\n",
       "precipcover         3290\n",
       "windgust            3288\n",
       "windspeed           3290\n",
       "winddir             3290\n",
       "sealevelpressure    3289\n",
       "cloudcover          3290\n",
       "visibility          3290\n",
       "solarradiation      3290\n",
       "solarenergy         3290\n",
       "uvindex             3290\n",
       "conditions          3290\n",
       "dtype: int64"
      ]
     },
     "execution_count": 47,
     "metadata": {},
     "output_type": "execute_result"
    }
   ],
   "source": [
    "\n",
    "df_weather.count()"
   ]
  },
  {
   "cell_type": "code",
   "execution_count": 48,
   "id": "e812488e-3ad1-45a6-bcf7-cb91b25198ab",
   "metadata": {},
   "outputs": [
    {
     "data": {
      "text/plain": [
       "date                  int64\n",
       "tempmax             float64\n",
       "tempmin             float64\n",
       "temp                float64\n",
       "feelslikemax        float64\n",
       "feelslikemin        float64\n",
       "feelslike           float64\n",
       "dew                 float64\n",
       "humidity            float64\n",
       "precip              float64\n",
       "precipprob          float64\n",
       "precipcover         float64\n",
       "windgust            float64\n",
       "windspeed           float64\n",
       "winddir             float64\n",
       "sealevelpressure    float64\n",
       "cloudcover          float64\n",
       "visibility          float64\n",
       "solarradiation      float64\n",
       "solarenergy         float64\n",
       "uvindex             float64\n",
       "conditions           object\n",
       "dtype: object"
      ]
     },
     "execution_count": 48,
     "metadata": {},
     "output_type": "execute_result"
    }
   ],
   "source": [
    "df_weather.dtypes"
   ]
  },
  {
   "cell_type": "code",
   "execution_count": 49,
   "id": "08e320f9-8588-49bb-a8f9-4e7877795a67",
   "metadata": {},
   "outputs": [
    {
     "name": "stdout",
     "output_type": "stream",
     "text": [
      "Connection closed.\n",
      "Connected. Call `.close()` to terminate connection gracefully.\n",
      "\n",
      "Logged in to project, explore it here https://c.app.hopsworks.ai:443/p/5419\n",
      "Connected. Call `.close()` to terminate connection gracefully.\n"
     ]
    }
   ],
   "source": [
    "import hopsworks\n",
    "\n",
    "project = hopsworks.login()\n",
    "\n",
    "fs = project.get_feature_store() "
   ]
  },
  {
   "cell_type": "code",
   "execution_count": 50,
   "id": "7c1d13c0-3ed4-4ba6-b49f-c6a79ad866e0",
   "metadata": {},
   "outputs": [
    {
     "name": "stdout",
     "output_type": "stream",
     "text": [
      "Feature Group created successfully, explore it at \n",
      "https://c.app.hopsworks.ai:443/p/5419/fs/5326/fg/13765\n"
     ]
    },
    {
     "data": {
      "application/vnd.jupyter.widget-view+json": {
       "model_id": "ca0dbd5a103c483c9db5f1f23fa8ddb4",
       "version_major": 2,
       "version_minor": 0
      },
      "text/plain": [
       "Uploading Dataframe: 0.00% |          | Rows 0/3079 | Elapsed Time: 00:00 | Remaining Time: ?"
      ]
     },
     "metadata": {},
     "output_type": "display_data"
    },
    {
     "name": "stdout",
     "output_type": "stream",
     "text": [
      "Launching offline feature group backfill job...\n",
      "Backfill Job started successfully, you can follow the progress at \n",
      "https://c.app.hopsworks.ai/p/5419/jobs/named/air_quality_fg_1_offline_fg_backfill/executions\n"
     ]
    },
    {
     "data": {
      "text/plain": [
       "(<hsfs.core.job.Job at 0x7fc0879ccdc0>, None)"
      ]
     },
     "execution_count": 50,
     "metadata": {},
     "output_type": "execute_result"
    }
   ],
   "source": [
    "air_quality_fg = fs.get_or_create_feature_group(\n",
    "        name = 'air_quality_fg',\n",
    "        description = 'Air Quality characteristics of each day',\n",
    "        version = 1,\n",
    "        primary_key = ['date'],\n",
    "        online_enabled = True,\n",
    "        event_time = 'date'\n",
    "    )    \n",
    "\n",
    "air_quality_fg.insert(df_air_quality)"
   ]
  },
  {
   "cell_type": "code",
   "execution_count": 51,
   "id": "21b42b76-e78e-4f50-a9c8-0f34791f6c01",
   "metadata": {},
   "outputs": [
    {
     "name": "stdout",
     "output_type": "stream",
     "text": [
      "Feature Group created successfully, explore it at \n",
      "https://c.app.hopsworks.ai:443/p/5419/fs/5326/fg/13766\n"
     ]
    },
    {
     "data": {
      "application/vnd.jupyter.widget-view+json": {
       "model_id": "c4c5d4af857245fcb35212df431a8aa6",
       "version_major": 2,
       "version_minor": 0
      },
      "text/plain": [
       "Uploading Dataframe: 0.00% |          | Rows 0/3290 | Elapsed Time: 00:00 | Remaining Time: ?"
      ]
     },
     "metadata": {},
     "output_type": "display_data"
    },
    {
     "name": "stdout",
     "output_type": "stream",
     "text": [
      "Launching offline feature group backfill job...\n",
      "Backfill Job started successfully, you can follow the progress at \n",
      "https://c.app.hopsworks.ai/p/5419/jobs/named/weather_fg_1_offline_fg_backfill/executions\n"
     ]
    },
    {
     "data": {
      "text/plain": [
       "(<hsfs.core.job.Job at 0x7fc087362ca0>, None)"
      ]
     },
     "execution_count": 51,
     "metadata": {},
     "output_type": "execute_result"
    }
   ],
   "source": [
    "weather_fg = fs.get_or_create_feature_group(\n",
    "        name = 'weather_fg',\n",
    "        description = 'Weather characteristics of each day',\n",
    "        version = 1,\n",
    "        primary_key = ['date'],\n",
    "        online_enabled = True,\n",
    "        event_time = 'date'\n",
    "    )    \n",
    "\n",
    "weather_fg.insert(df_weather)"
   ]
  },
  {
   "cell_type": "code",
   "execution_count": 27,
   "id": "43b68ca4-0ec4-4949-844e-b3c69630333a",
   "metadata": {},
   "outputs": [],
   "source": [
    "#weather_fg.delete()"
   ]
  },
  {
   "cell_type": "code",
   "execution_count": 28,
   "id": "ec9db31d-9bde-415b-a2ba-ad386281f8a9",
   "metadata": {},
   "outputs": [],
   "source": [
    "#air_quality_fg.delete()"
   ]
  },
  {
   "cell_type": "code",
   "execution_count": null,
   "id": "a84e8a9a-7647-4057-93e5-548ca1529d1d",
   "metadata": {},
   "outputs": [],
   "source": []
  }
 ],
 "metadata": {
  "kernelspec": {
   "display_name": "Python 3",
   "language": "python",
   "name": "python3"
  },
  "language_info": {
   "codemirror_mode": {
    "name": "ipython",
    "version": 3
   },
   "file_extension": ".py",
   "mimetype": "text/x-python",
   "name": "python",
   "nbconvert_exporter": "python",
   "pygments_lexer": "ipython3",
   "version": "3.8.8"
  }
 },
 "nbformat": 4,
 "nbformat_minor": 5
}

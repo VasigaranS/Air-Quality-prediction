{
 "cells": [
  {
   "cell_type": "code",
   "execution_count": 1,
   "id": "f92a0ec6-30a5-4a1b-8f3e-02d6854c5ff4",
   "metadata": {},
   "outputs": [],
   "source": [
    "import pandas as pd\n",
    "from datetime import datetime\n",
    "import time \n",
    "import requests\n",
    "from datetime import timedelta, datetime\n",
    "from functions import *"
   ]
  },
  {
   "cell_type": "code",
   "execution_count": 2,
   "id": "0c452610-0471-44c9-bab5-fb87cef07854",
   "metadata": {},
   "outputs": [],
   "source": [
    "date_today = datetime.now()\n",
    "date_today =date_today.strftime(\"%Y-%m-%d\")"
   ]
  },
  {
   "cell_type": "code",
   "execution_count": 4,
   "id": "8fb7996a-fb0a-4e2c-9fc7-c08bc085ec80",
   "metadata": {},
   "outputs": [],
   "source": [
    "cities = ['Amsterdam']\n",
    "\n",
    "\n",
    "data_air_quality = [get_air_quality_data(city) for city in cities]\n",
    "\n",
    "data_weather = [get_weather_data(city, date_today) for city in cities]"
   ]
  },
  {
   "cell_type": "code",
   "execution_count": null,
   "id": "c6f8255b-4601-47b1-bf05-6b60aa7777d7",
   "metadata": {},
   "outputs": [],
   "source": []
  },
  {
   "cell_type": "code",
   "execution_count": 5,
   "id": "9bc8317a-c1d8-4638-9e35-82f7be877874",
   "metadata": {},
   "outputs": [
    {
     "data": {
      "text/plain": [
       "[['2023-01-14', 15, 6, 30.9, 1.2, 0.1, 1.7, 31]]"
      ]
     },
     "execution_count": 5,
     "metadata": {},
     "output_type": "execute_result"
    }
   ],
   "source": [
    "data_air_quality"
   ]
  },
  {
   "cell_type": "code",
   "execution_count": 6,
   "id": "075d0c97-895b-45bb-914a-70708b330b29",
   "metadata": {},
   "outputs": [
    {
     "data": {
      "text/plain": [
       "[['2023-01-14',\n",
       "  11.0,\n",
       "  6.0,\n",
       "  8.1,\n",
       "  11.0,\n",
       "  1.4,\n",
       "  5.0,\n",
       "  6.4,\n",
       "  88.8,\n",
       "  7.5,\n",
       "  100.0,\n",
       "  33.33,\n",
       "  79.6,\n",
       "  47.3,\n",
       "  215.3,\n",
       "  1001.9,\n",
       "  75.5,\n",
       "  8.9,\n",
       "  4.3,\n",
       "  0.3,\n",
       "  0.0,\n",
       "  'Rain, Partially cloudy']]"
      ]
     },
     "execution_count": 6,
     "metadata": {},
     "output_type": "execute_result"
    }
   ],
   "source": [
    "data_weather"
   ]
  },
  {
   "cell_type": "code",
   "execution_count": null,
   "id": "2dc29ca6-e95a-4ff5-addb-5e9a3888e2b2",
   "metadata": {},
   "outputs": [],
   "source": []
  },
  {
   "cell_type": "code",
   "execution_count": 37,
   "id": "b0f5a11b-beb2-4d4a-80d3-8abedd26e3a7",
   "metadata": {},
   "outputs": [
    {
     "data": {
      "text/html": [
       "<div>\n",
       "<style scoped>\n",
       "    .dataframe tbody tr th:only-of-type {\n",
       "        vertical-align: middle;\n",
       "    }\n",
       "\n",
       "    .dataframe tbody tr th {\n",
       "        vertical-align: top;\n",
       "    }\n",
       "\n",
       "    .dataframe thead th {\n",
       "        text-align: right;\n",
       "    }\n",
       "</style>\n",
       "<table border=\"1\" class=\"dataframe\">\n",
       "  <thead>\n",
       "    <tr style=\"text-align: right;\">\n",
       "      <th></th>\n",
       "      <th>date</th>\n",
       "      <th>pm25</th>\n",
       "      <th>pm10</th>\n",
       "      <th>o3</th>\n",
       "      <th>no2</th>\n",
       "      <th>so2</th>\n",
       "      <th>co</th>\n",
       "      <th>aqi</th>\n",
       "    </tr>\n",
       "  </thead>\n",
       "  <tbody>\n",
       "    <tr>\n",
       "      <th>0</th>\n",
       "      <td>1673564400000</td>\n",
       "      <td>28</td>\n",
       "      <td>10</td>\n",
       "      <td>26.6</td>\n",
       "      <td>2.6</td>\n",
       "      <td>0.2</td>\n",
       "      <td>1.8</td>\n",
       "      <td>28</td>\n",
       "    </tr>\n",
       "  </tbody>\n",
       "</table>\n",
       "</div>"
      ],
      "text/plain": [
       "            date  pm25  pm10    o3  no2  so2   co  aqi\n",
       "0  1673564400000    28    10  26.6  2.6  0.2  1.8   28"
      ]
     },
     "execution_count": 37,
     "metadata": {},
     "output_type": "execute_result"
    }
   ],
   "source": [
    "df_air_quality = get_air_quality_df(data_air_quality)\n",
    "\n",
    "df_air_quality"
   ]
  },
  {
   "cell_type": "code",
   "execution_count": 38,
   "id": "bdee5059-16ab-4e1e-a93d-cc8cb46a80b4",
   "metadata": {},
   "outputs": [],
   "source": [
    "aqi=[]\n",
    "for i in range(0,len(df_air_quality)):\n",
    "    row=df_air_quality.iloc[i,1:-2]\n",
    "    aqi.append(max(row))\n",
    "df_air_quality['aqi']=aqi"
   ]
  },
  {
   "cell_type": "code",
   "execution_count": 48,
   "id": "63a6bc83-205c-4307-af7d-3dcce6273582",
   "metadata": {},
   "outputs": [
    {
     "data": {
      "text/html": [
       "<div>\n",
       "<style scoped>\n",
       "    .dataframe tbody tr th:only-of-type {\n",
       "        vertical-align: middle;\n",
       "    }\n",
       "\n",
       "    .dataframe tbody tr th {\n",
       "        vertical-align: top;\n",
       "    }\n",
       "\n",
       "    .dataframe thead th {\n",
       "        text-align: right;\n",
       "    }\n",
       "</style>\n",
       "<table border=\"1\" class=\"dataframe\">\n",
       "  <thead>\n",
       "    <tr style=\"text-align: right;\">\n",
       "      <th></th>\n",
       "      <th>date</th>\n",
       "      <th>pm25</th>\n",
       "      <th>pm10</th>\n",
       "      <th>o3</th>\n",
       "      <th>no2</th>\n",
       "      <th>so2</th>\n",
       "      <th>co</th>\n",
       "      <th>aqi</th>\n",
       "    </tr>\n",
       "  </thead>\n",
       "  <tbody>\n",
       "    <tr>\n",
       "      <th>0</th>\n",
       "      <td>1673564400000</td>\n",
       "      <td>28</td>\n",
       "      <td>10</td>\n",
       "      <td>26.6</td>\n",
       "      <td>2.6</td>\n",
       "      <td>0.2</td>\n",
       "      <td>1.8</td>\n",
       "      <td>28</td>\n",
       "    </tr>\n",
       "  </tbody>\n",
       "</table>\n",
       "</div>"
      ],
      "text/plain": [
       "            date  pm25  pm10    o3  no2  so2   co  aqi\n",
       "0  1673564400000    28    10  26.6  2.6  0.2  1.8   28"
      ]
     },
     "execution_count": 48,
     "metadata": {},
     "output_type": "execute_result"
    }
   ],
   "source": [
    "df_air_quality"
   ]
  },
  {
   "cell_type": "code",
   "execution_count": 46,
   "id": "d99b9d68-851f-4d26-adb8-614af21c4b2e",
   "metadata": {},
   "outputs": [],
   "source": [
    "df_air_quality['aqi'] = df_air_quality['aqi'].astype(int)"
   ]
  },
  {
   "cell_type": "code",
   "execution_count": 47,
   "id": "f8b599ab-0d82-4b7e-bf7f-6132f9ac78f3",
   "metadata": {},
   "outputs": [
    {
     "data": {
      "text/plain": [
       "date      int64\n",
       "pm25      int64\n",
       "pm10      int64\n",
       "o3      float64\n",
       "no2     float64\n",
       "so2     float64\n",
       "co      float64\n",
       "aqi       int64\n",
       "dtype: object"
      ]
     },
     "execution_count": 47,
     "metadata": {},
     "output_type": "execute_result"
    }
   ],
   "source": [
    "df_air_quality.dtypes"
   ]
  },
  {
   "cell_type": "code",
   "execution_count": 41,
   "id": "b1051176-ef55-4c27-9ff4-6807d0c2525e",
   "metadata": {},
   "outputs": [
    {
     "data": {
      "text/html": [
       "<div>\n",
       "<style scoped>\n",
       "    .dataframe tbody tr th:only-of-type {\n",
       "        vertical-align: middle;\n",
       "    }\n",
       "\n",
       "    .dataframe tbody tr th {\n",
       "        vertical-align: top;\n",
       "    }\n",
       "\n",
       "    .dataframe thead th {\n",
       "        text-align: right;\n",
       "    }\n",
       "</style>\n",
       "<table border=\"1\" class=\"dataframe\">\n",
       "  <thead>\n",
       "    <tr style=\"text-align: right;\">\n",
       "      <th></th>\n",
       "      <th>date</th>\n",
       "      <th>tempmax</th>\n",
       "      <th>tempmin</th>\n",
       "      <th>temp</th>\n",
       "      <th>feelslikemax</th>\n",
       "      <th>feelslikemin</th>\n",
       "      <th>feelslike</th>\n",
       "      <th>dew</th>\n",
       "      <th>humidity</th>\n",
       "      <th>precip</th>\n",
       "      <th>...</th>\n",
       "      <th>windgust</th>\n",
       "      <th>windspeed</th>\n",
       "      <th>winddir</th>\n",
       "      <th>sealevelpressure</th>\n",
       "      <th>cloudcover</th>\n",
       "      <th>visibility</th>\n",
       "      <th>solarradiation</th>\n",
       "      <th>solarenergy</th>\n",
       "      <th>uvindex</th>\n",
       "      <th>conditions</th>\n",
       "    </tr>\n",
       "  </thead>\n",
       "  <tbody>\n",
       "    <tr>\n",
       "      <th>0</th>\n",
       "      <td>1673564400000</td>\n",
       "      <td>9.8</td>\n",
       "      <td>7.7</td>\n",
       "      <td>8.9</td>\n",
       "      <td>7.7</td>\n",
       "      <td>3.3</td>\n",
       "      <td>4.9</td>\n",
       "      <td>4.8</td>\n",
       "      <td>75.3</td>\n",
       "      <td>1.1</td>\n",
       "      <td>...</td>\n",
       "      <td>74.2</td>\n",
       "      <td>45.9</td>\n",
       "      <td>245.9</td>\n",
       "      <td>1004.0</td>\n",
       "      <td>71.3</td>\n",
       "      <td>11.2</td>\n",
       "      <td>11.9</td>\n",
       "      <td>1.0</td>\n",
       "      <td>1.0</td>\n",
       "      <td>Rain, Partially cloudy</td>\n",
       "    </tr>\n",
       "  </tbody>\n",
       "</table>\n",
       "<p>1 rows × 22 columns</p>\n",
       "</div>"
      ],
      "text/plain": [
       "            date  tempmax  tempmin  temp  feelslikemax  feelslikemin  \\\n",
       "0  1673564400000      9.8      7.7   8.9           7.7           3.3   \n",
       "\n",
       "   feelslike  dew  humidity  precip  ...  windgust  windspeed  winddir  \\\n",
       "0        4.9  4.8      75.3     1.1  ...      74.2       45.9    245.9   \n",
       "\n",
       "   sealevelpressure  cloudcover  visibility  solarradiation  solarenergy  \\\n",
       "0            1004.0        71.3        11.2            11.9          1.0   \n",
       "\n",
       "   uvindex              conditions  \n",
       "0      1.0  Rain, Partially cloudy  \n",
       "\n",
       "[1 rows x 22 columns]"
      ]
     },
     "execution_count": 41,
     "metadata": {},
     "output_type": "execute_result"
    }
   ],
   "source": [
    "df_weather = get_weather_df(data_weather)\n",
    "\n",
    "df_weather.head()"
   ]
  },
  {
   "cell_type": "code",
   "execution_count": 43,
   "id": "faf4786d-420d-481c-9aa6-18977110fde8",
   "metadata": {},
   "outputs": [
    {
     "name": "stdout",
     "output_type": "stream",
     "text": [
      "Connected. Call `.close()` to terminate connection gracefully.\n",
      "\n",
      "Logged in to project, explore it here https://c.app.hopsworks.ai:443/p/5419\n",
      "Connected. Call `.close()` to terminate connection gracefully.\n"
     ]
    }
   ],
   "source": [
    "import hopsworks\n",
    "\n",
    "project = hopsworks.login()\n",
    "\n",
    "fs = project.get_feature_store() \n",
    "\n",
    "air_quality_fg = fs.get_or_create_feature_group(\n",
    "    name = 'air_quality_fg',\n",
    "    version = 1\n",
    ")\n",
    "weather_fg = fs.get_or_create_feature_group(\n",
    "    name = 'weather_fg',\n",
    "    version = 1\n",
    ")"
   ]
  },
  {
   "cell_type": "code",
   "execution_count": 11,
   "id": "95171c79-143c-4ab8-b0b5-cfa9482b25f0",
   "metadata": {},
   "outputs": [
    {
     "data": {
      "application/vnd.jupyter.widget-view+json": {
       "model_id": "07989d4eaa034870803c87a6c1ca18eb",
       "version_major": 2,
       "version_minor": 0
      },
      "text/plain": [
       "Uploading Dataframe: 0.00% |          | Rows 0/1 | Elapsed Time: 00:00 | Remaining Time: ?"
      ]
     },
     "metadata": {},
     "output_type": "display_data"
    },
    {
     "name": "stdout",
     "output_type": "stream",
     "text": [
      "Launching offline feature group backfill job...\n",
      "Backfill Job started successfully, you can follow the progress at \n",
      "https://c.app.hopsworks.ai/p/5419/jobs/named/air_quality_fg_1_offline_fg_backfill/executions\n"
     ]
    },
    {
     "data": {
      "text/plain": [
       "(<hsfs.core.job.Job at 0x7fad9cf5caf0>, None)"
      ]
     },
     "execution_count": 11,
     "metadata": {},
     "output_type": "execute_result"
    }
   ],
   "source": [
    "air_quality_fg.insert(df_air_quality)"
   ]
  },
  {
   "cell_type": "code",
   "execution_count": 12,
   "id": "53f98143-618a-4604-bc09-29552c79c691",
   "metadata": {},
   "outputs": [
    {
     "data": {
      "application/vnd.jupyter.widget-view+json": {
       "model_id": "c83a363abe54444f9d3ffc0ad59782c1",
       "version_major": 2,
       "version_minor": 0
      },
      "text/plain": [
       "Uploading Dataframe: 0.00% |          | Rows 0/1 | Elapsed Time: 00:00 | Remaining Time: ?"
      ]
     },
     "metadata": {},
     "output_type": "display_data"
    },
    {
     "name": "stdout",
     "output_type": "stream",
     "text": [
      "Launching offline feature group backfill job...\n",
      "Backfill Job started successfully, you can follow the progress at \n",
      "https://c.app.hopsworks.ai/p/5419/jobs/named/weather_fg_1_offline_fg_backfill/executions\n"
     ]
    },
    {
     "data": {
      "text/plain": [
       "(<hsfs.core.job.Job at 0x7fad9d15e3a0>, None)"
      ]
     },
     "execution_count": 12,
     "metadata": {},
     "output_type": "execute_result"
    }
   ],
   "source": [
    "weather_fg.insert(df_weather)"
   ]
  },
  {
   "cell_type": "code",
   "execution_count": null,
   "id": "2f71ce5e-1abe-45e1-a3d7-aeb4b751e7d1",
   "metadata": {},
   "outputs": [],
   "source": []
  }
 ],
 "metadata": {
  "kernelspec": {
   "display_name": "Python 3",
   "language": "python",
   "name": "python3"
  },
  "language_info": {
   "codemirror_mode": {
    "name": "ipython",
    "version": 3
   },
   "file_extension": ".py",
   "mimetype": "text/x-python",
   "name": "python",
   "nbconvert_exporter": "python",
   "pygments_lexer": "ipython3",
   "version": "3.8.8"
  }
 },
 "nbformat": 4,
 "nbformat_minor": 5
}
